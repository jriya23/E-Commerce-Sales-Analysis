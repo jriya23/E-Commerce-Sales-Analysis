{
 "cells": [
  {
   "cell_type": "code",
   "execution_count": 2,
   "id": "803149ad",
   "metadata": {},
   "outputs": [
    {
     "name": "stdout",
     "output_type": "stream",
     "text": [
      "Requirement already satisfied: mysql-connector-python in c:\\users\\jriya\\venv\\lib\\site-packages (9.3.0)\n"
     ]
    }
   ],
   "source": [
    "!pip install mysql-connector-python"
   ]
  },
  {
   "cell_type": "code",
   "execution_count": 3,
   "id": "d6b5cf22",
   "metadata": {},
   "outputs": [],
   "source": [
    "import mysql.connector\n",
    "import pandas as pd\n",
    "\n",
    "cnx = mysql.connector.connect(\n",
    "    host=\"127.0.0.1\",\n",
    "    port=3306,\n",
    "    user=\"root\",\n",
    "    password=\"Jriya@#2023\",\n",
    "    database=\"e_commerce\")"
   ]
  },
  {
   "cell_type": "code",
   "execution_count": 4,
   "id": "41bea2ae",
   "metadata": {},
   "outputs": [
    {
     "data": {
      "text/plain": [
       "'Select * from ecommerce_customer;'"
      ]
     },
     "execution_count": 4,
     "metadata": {},
     "output_type": "execute_result"
    }
   ],
   "source": [
    "query = \"Select * from ecommerce_customer;\"\n",
    "query\n"
   ]
  },
  {
   "cell_type": "code",
   "execution_count": 5,
   "id": "83ac9426",
   "metadata": {},
   "outputs": [
    {
     "name": "stderr",
     "output_type": "stream",
     "text": [
      "C:\\Users\\jriya\\AppData\\Local\\Temp\\ipykernel_12372\\2085494670.py:1: UserWarning: pandas only supports SQLAlchemy connectable (engine/connection) or database string URI or sqlite3 DBAPI2 connection. Other DBAPI2 objects are not tested. Please consider using SQLAlchemy.\n",
      "  df = pd.read_sql(query, cnx)\n"
     ]
    },
    {
     "data": {
      "text/html": [
       "<div>\n",
       "<style scoped>\n",
       "    .dataframe tbody tr th:only-of-type {\n",
       "        vertical-align: middle;\n",
       "    }\n",
       "\n",
       "    .dataframe tbody tr th {\n",
       "        vertical-align: top;\n",
       "    }\n",
       "\n",
       "    .dataframe thead th {\n",
       "        text-align: right;\n",
       "    }\n",
       "</style>\n",
       "<table border=\"1\" class=\"dataframe\">\n",
       "  <thead>\n",
       "    <tr style=\"text-align: right;\">\n",
       "      <th></th>\n",
       "      <th>Customer ID</th>\n",
       "      <th>Purchase Date</th>\n",
       "      <th>Product Category</th>\n",
       "      <th>Product Price</th>\n",
       "      <th>Quantity</th>\n",
       "      <th>Total Purchase Amount</th>\n",
       "      <th>Payment Method</th>\n",
       "      <th>Returns</th>\n",
       "      <th>Customer Name</th>\n",
       "      <th>Age</th>\n",
       "      <th>Gender</th>\n",
       "      <th>Churn</th>\n",
       "    </tr>\n",
       "  </thead>\n",
       "  <tbody>\n",
       "    <tr>\n",
       "      <th>0</th>\n",
       "      <td>46251</td>\n",
       "      <td>08-09-2020</td>\n",
       "      <td>Electronics</td>\n",
       "      <td>12</td>\n",
       "      <td>3</td>\n",
       "      <td>740</td>\n",
       "      <td>Credit Card</td>\n",
       "      <td>0</td>\n",
       "      <td>Christine Hernandez</td>\n",
       "      <td>37</td>\n",
       "      <td>Male</td>\n",
       "      <td>0</td>\n",
       "    </tr>\n",
       "    <tr>\n",
       "      <th>1</th>\n",
       "      <td>46251</td>\n",
       "      <td>06-03-2022</td>\n",
       "      <td>Home</td>\n",
       "      <td>468</td>\n",
       "      <td>4</td>\n",
       "      <td>2739</td>\n",
       "      <td>PayPal</td>\n",
       "      <td>0</td>\n",
       "      <td>Christine Hernandez</td>\n",
       "      <td>37</td>\n",
       "      <td>Male</td>\n",
       "      <td>0</td>\n",
       "    </tr>\n",
       "    <tr>\n",
       "      <th>2</th>\n",
       "      <td>46251</td>\n",
       "      <td>24-05-2022</td>\n",
       "      <td>Home</td>\n",
       "      <td>288</td>\n",
       "      <td>2</td>\n",
       "      <td>3196</td>\n",
       "      <td>PayPal</td>\n",
       "      <td>0</td>\n",
       "      <td>Christine Hernandez</td>\n",
       "      <td>37</td>\n",
       "      <td>Male</td>\n",
       "      <td>0</td>\n",
       "    </tr>\n",
       "    <tr>\n",
       "      <th>3</th>\n",
       "      <td>46251</td>\n",
       "      <td>13-11-2020</td>\n",
       "      <td>Clothing</td>\n",
       "      <td>196</td>\n",
       "      <td>1</td>\n",
       "      <td>3509</td>\n",
       "      <td>PayPal</td>\n",
       "      <td>0</td>\n",
       "      <td>Christine Hernandez</td>\n",
       "      <td>37</td>\n",
       "      <td>Male</td>\n",
       "      <td>0</td>\n",
       "    </tr>\n",
       "    <tr>\n",
       "      <th>4</th>\n",
       "      <td>13593</td>\n",
       "      <td>28-11-2020</td>\n",
       "      <td>Home</td>\n",
       "      <td>449</td>\n",
       "      <td>1</td>\n",
       "      <td>3452</td>\n",
       "      <td>Credit Card</td>\n",
       "      <td>0</td>\n",
       "      <td>James Grant</td>\n",
       "      <td>49</td>\n",
       "      <td>Female</td>\n",
       "      <td>1</td>\n",
       "    </tr>\n",
       "  </tbody>\n",
       "</table>\n",
       "</div>"
      ],
      "text/plain": [
       "   Customer ID Purchase Date Product Category  Product Price  Quantity  \\\n",
       "0        46251    08-09-2020      Electronics             12         3   \n",
       "1        46251    06-03-2022             Home            468         4   \n",
       "2        46251    24-05-2022             Home            288         2   \n",
       "3        46251    13-11-2020         Clothing            196         1   \n",
       "4        13593    28-11-2020             Home            449         1   \n",
       "\n",
       "   Total Purchase Amount Payment Method  Returns        Customer Name  Age  \\\n",
       "0                    740    Credit Card        0  Christine Hernandez   37   \n",
       "1                   2739         PayPal        0  Christine Hernandez   37   \n",
       "2                   3196         PayPal        0  Christine Hernandez   37   \n",
       "3                   3509         PayPal        0  Christine Hernandez   37   \n",
       "4                   3452    Credit Card        0          James Grant   49   \n",
       "\n",
       "   Gender  Churn  \n",
       "0    Male      0  \n",
       "1    Male      0  \n",
       "2    Male      0  \n",
       "3    Male      0  \n",
       "4  Female      1  "
      ]
     },
     "execution_count": 5,
     "metadata": {},
     "output_type": "execute_result"
    }
   ],
   "source": [
    "df = pd.read_sql(query, cnx) \n",
    "df.head() \n"
   ]
  },
  {
   "cell_type": "code",
   "execution_count": 6,
   "id": "84151840",
   "metadata": {},
   "outputs": [],
   "source": [
    "df_copy  = df.copy()\n"
   ]
  },
  {
   "cell_type": "code",
   "execution_count": 7,
   "id": "76f9d204",
   "metadata": {},
   "outputs": [],
   "source": [
    "cnx.close()"
   ]
  },
  {
   "cell_type": "code",
   "execution_count": 8,
   "id": "3e4fd4e9",
   "metadata": {},
   "outputs": [],
   "source": [
    "import pandas as pd\n",
    "import numpy as np          \n",
    "import matplotlib.pyplot as plt\n",
    "import seaborn as sns"
   ]
  },
  {
   "cell_type": "code",
   "execution_count": 9,
   "id": "c43d5db5",
   "metadata": {},
   "outputs": [
    {
     "data": {
      "text/plain": [
       "(405022, 12)"
      ]
     },
     "execution_count": 9,
     "metadata": {},
     "output_type": "execute_result"
    }
   ],
   "source": [
    "df.shape"
   ]
  },
  {
   "cell_type": "code",
   "execution_count": 10,
   "id": "441dd866",
   "metadata": {},
   "outputs": [
    {
     "data": {
      "text/html": [
       "<div>\n",
       "<style scoped>\n",
       "    .dataframe tbody tr th:only-of-type {\n",
       "        vertical-align: middle;\n",
       "    }\n",
       "\n",
       "    .dataframe tbody tr th {\n",
       "        vertical-align: top;\n",
       "    }\n",
       "\n",
       "    .dataframe thead th {\n",
       "        text-align: right;\n",
       "    }\n",
       "</style>\n",
       "<table border=\"1\" class=\"dataframe\">\n",
       "  <thead>\n",
       "    <tr style=\"text-align: right;\">\n",
       "      <th></th>\n",
       "      <th>Customer ID</th>\n",
       "      <th>Product Price</th>\n",
       "      <th>Quantity</th>\n",
       "      <th>Total Purchase Amount</th>\n",
       "      <th>Returns</th>\n",
       "      <th>Age</th>\n",
       "      <th>Churn</th>\n",
       "    </tr>\n",
       "  </thead>\n",
       "  <tbody>\n",
       "    <tr>\n",
       "      <th>count</th>\n",
       "      <td>405022.000000</td>\n",
       "      <td>405022.000000</td>\n",
       "      <td>405022.000000</td>\n",
       "      <td>405022.000000</td>\n",
       "      <td>405022.000000</td>\n",
       "      <td>405022.000000</td>\n",
       "      <td>405022.000000</td>\n",
       "    </tr>\n",
       "    <tr>\n",
       "      <th>mean</th>\n",
       "      <td>25017.062725</td>\n",
       "      <td>254.638383</td>\n",
       "      <td>3.003847</td>\n",
       "      <td>2725.474419</td>\n",
       "      <td>0.499343</td>\n",
       "      <td>43.872182</td>\n",
       "      <td>0.200256</td>\n",
       "    </tr>\n",
       "    <tr>\n",
       "      <th>std</th>\n",
       "      <td>14412.453435</td>\n",
       "      <td>141.643090</td>\n",
       "      <td>1.414393</td>\n",
       "      <td>1441.902782</td>\n",
       "      <td>0.500000</td>\n",
       "      <td>15.355357</td>\n",
       "      <td>0.400192</td>\n",
       "    </tr>\n",
       "    <tr>\n",
       "      <th>min</th>\n",
       "      <td>1.000000</td>\n",
       "      <td>10.000000</td>\n",
       "      <td>1.000000</td>\n",
       "      <td>100.000000</td>\n",
       "      <td>0.000000</td>\n",
       "      <td>18.000000</td>\n",
       "      <td>0.000000</td>\n",
       "    </tr>\n",
       "    <tr>\n",
       "      <th>25%</th>\n",
       "      <td>12574.000000</td>\n",
       "      <td>132.000000</td>\n",
       "      <td>2.000000</td>\n",
       "      <td>1478.000000</td>\n",
       "      <td>0.000000</td>\n",
       "      <td>30.000000</td>\n",
       "      <td>0.000000</td>\n",
       "    </tr>\n",
       "    <tr>\n",
       "      <th>50%</th>\n",
       "      <td>25018.000000</td>\n",
       "      <td>255.000000</td>\n",
       "      <td>3.000000</td>\n",
       "      <td>2727.000000</td>\n",
       "      <td>0.000000</td>\n",
       "      <td>44.000000</td>\n",
       "      <td>0.000000</td>\n",
       "    </tr>\n",
       "    <tr>\n",
       "      <th>75%</th>\n",
       "      <td>37478.000000</td>\n",
       "      <td>377.000000</td>\n",
       "      <td>4.000000</td>\n",
       "      <td>3973.000000</td>\n",
       "      <td>1.000000</td>\n",
       "      <td>57.000000</td>\n",
       "      <td>0.000000</td>\n",
       "    </tr>\n",
       "    <tr>\n",
       "      <th>max</th>\n",
       "      <td>50000.000000</td>\n",
       "      <td>500.000000</td>\n",
       "      <td>5.000000</td>\n",
       "      <td>5350.000000</td>\n",
       "      <td>1.000000</td>\n",
       "      <td>70.000000</td>\n",
       "      <td>1.000000</td>\n",
       "    </tr>\n",
       "  </tbody>\n",
       "</table>\n",
       "</div>"
      ],
      "text/plain": [
       "         Customer ID  Product Price       Quantity  Total Purchase Amount  \\\n",
       "count  405022.000000  405022.000000  405022.000000          405022.000000   \n",
       "mean    25017.062725     254.638383       3.003847            2725.474419   \n",
       "std     14412.453435     141.643090       1.414393            1441.902782   \n",
       "min         1.000000      10.000000       1.000000             100.000000   \n",
       "25%     12574.000000     132.000000       2.000000            1478.000000   \n",
       "50%     25018.000000     255.000000       3.000000            2727.000000   \n",
       "75%     37478.000000     377.000000       4.000000            3973.000000   \n",
       "max     50000.000000     500.000000       5.000000            5350.000000   \n",
       "\n",
       "             Returns            Age          Churn  \n",
       "count  405022.000000  405022.000000  405022.000000  \n",
       "mean        0.499343      43.872182       0.200256  \n",
       "std         0.500000      15.355357       0.400192  \n",
       "min         0.000000      18.000000       0.000000  \n",
       "25%         0.000000      30.000000       0.000000  \n",
       "50%         0.000000      44.000000       0.000000  \n",
       "75%         1.000000      57.000000       0.000000  \n",
       "max         1.000000      70.000000       1.000000  "
      ]
     },
     "execution_count": 10,
     "metadata": {},
     "output_type": "execute_result"
    }
   ],
   "source": [
    "df.describe()\n"
   ]
  },
  {
   "cell_type": "code",
   "execution_count": 11,
   "id": "2035f5e5",
   "metadata": {},
   "outputs": [
    {
     "name": "stdout",
     "output_type": "stream",
     "text": [
      "<class 'pandas.core.frame.DataFrame'>\n",
      "RangeIndex: 405022 entries, 0 to 405021\n",
      "Data columns (total 12 columns):\n",
      " #   Column                 Non-Null Count   Dtype \n",
      "---  ------                 --------------   ----- \n",
      " 0   Customer ID            405022 non-null  int64 \n",
      " 1   Purchase Date          405022 non-null  object\n",
      " 2   Product Category       405022 non-null  object\n",
      " 3   Product Price          405022 non-null  int64 \n",
      " 4   Quantity               405022 non-null  int64 \n",
      " 5   Total Purchase Amount  405022 non-null  int64 \n",
      " 6   Payment Method         405022 non-null  object\n",
      " 7   Returns                405022 non-null  int64 \n",
      " 8   Customer Name          405022 non-null  object\n",
      " 9   Age                    405022 non-null  int64 \n",
      " 10  Gender                 405022 non-null  object\n",
      " 11  Churn                  405022 non-null  int64 \n",
      "dtypes: int64(7), object(5)\n",
      "memory usage: 37.1+ MB\n"
     ]
    }
   ],
   "source": [
    "df.info()"
   ]
  },
  {
   "cell_type": "code",
   "execution_count": 12,
   "id": "93c4402c",
   "metadata": {},
   "outputs": [],
   "source": [
    "df['Purchase Date'] = pd.to_datetime(df['Purchase Date'],errors='coerce')"
   ]
  },
  {
   "cell_type": "code",
   "execution_count": 13,
   "id": "f23c0a63",
   "metadata": {},
   "outputs": [
    {
     "data": {
      "text/plain": [
       "Customer ID                   0\n",
       "Purchase Date            243514\n",
       "Product Category              0\n",
       "Product Price                 0\n",
       "Quantity                      0\n",
       "Total Purchase Amount         0\n",
       "Payment Method                0\n",
       "Returns                       0\n",
       "Customer Name                 0\n",
       "Age                           0\n",
       "Gender                        0\n",
       "Churn                         0\n",
       "dtype: int64"
      ]
     },
     "execution_count": 13,
     "metadata": {},
     "output_type": "execute_result"
    }
   ],
   "source": [
    "# check null values\n",
    "\n",
    "df.isnull().sum()"
   ]
  },
  {
   "cell_type": "code",
   "execution_count": 14,
   "id": "9c666e7e",
   "metadata": {},
   "outputs": [],
   "source": [
    "# filter date is notnull\n",
    "\n",
    "df_with_date = df[df['Purchase Date'].notnull()]"
   ]
  },
  {
   "cell_type": "code",
   "execution_count": 15,
   "id": "38412afd",
   "metadata": {},
   "outputs": [
    {
     "data": {
      "text/plain": [
       "np.int64(0)"
      ]
     },
     "execution_count": 15,
     "metadata": {},
     "output_type": "execute_result"
    }
   ],
   "source": [
    "# Check duplicates\n",
    "\n",
    "df.duplicated().sum()   "
   ]
  },
  {
   "cell_type": "code",
   "execution_count": 17,
   "id": "46d9e797",
   "metadata": {},
   "outputs": [],
   "source": [
    "# Clean Categorical Columns\n",
    "\n",
    "df['Returns'] = df['Returns'].replace({0: 'No', 1: 'Yes'})\n",
    "df['Churn'] = df['Churn'].replace({0: 'Active', 1: 'Churned'})\n",
    "df['Gender'] = df['Gender'].str.title().astype('category')\n",
    "df['Product Category'] = df['Product Category'].astype('category')\n",
    "df['Payment Method'] = df['Payment Method'].astype('category')\n",
    "\n"
   ]
  },
  {
   "cell_type": "code",
   "execution_count": 107,
   "id": "767cebc2",
   "metadata": {},
   "outputs": [
    {
     "data": {
      "image/png": "[encoded data removed]",
      "text/plain": [
       "<Figure size 640x480 with 1 Axes>"
      ]
     },
     "metadata": {},
     "output_type": "display_data"
    }
   ],
   "source": [
    "barWidth = 0.3\n",
    "sns.boxplot(x=df['Product Price'], width = barWidth)\n",
    "plt.title(\"Product Price Distribution\")\n",
    "plt.show()"
   ]
  },
  {
   "cell_type": "code",
   "execution_count": null,
   "id": "1d7b301c",
   "metadata": {},
   "outputs": [],
   "source": [
    "# there is no outliers in product price"
   ]
  },
  {
   "cell_type": "code",
   "execution_count": 18,
   "id": "e9a8a625",
   "metadata": {},
   "outputs": [],
   "source": [
    "# Hence the \"data cleaning\" is done successfully. The dataset is now ready for further analysis and visualization."
   ]
  },
  {
   "cell_type": "code",
   "execution_count": 19,
   "id": "ad8432c4",
   "metadata": {},
   "outputs": [],
   "source": [
    "# EDA"
   ]
  },
  {
   "cell_type": "code",
   "execution_count": null,
   "id": "a922bcd1",
   "metadata": {},
   "outputs": [
    {
     "name": "stdout",
     "output_type": "stream",
     "text": [
      "      Customer Name  Total Purchase Amount\n",
      "0     Michael Smith                 480033\n",
      "1        John Smith                 471458\n",
      "2   Michael Johnson                 441665\n",
      "3       James Smith                 434863\n",
      "4     Michael Brown                 398503\n",
      "5    Jennifer Smith                 394456\n",
      "6     Michael Jones                 360484\n",
      "7  Michael Williams                 357418\n",
      "8     David Johnson                 351030\n",
      "9      John Johnson                 324466\n"
     ]
    }
   ],
   "source": [
    "# Top Customers\n",
    "\n",
    "top_customers = df.groupby('Customer Name')['Total Purchase Amount'].sum().sort_values(ascending=False).head(10)\n",
    "\n",
    "# Display the result as a table \n",
    "top_customers = top_customers.reset_index()\n",
    "top_customers.columns = ['Customer Name', 'Total Purchase Amount']\n",
    "print(top_customers)"
   ]
  },
  {
   "cell_type": "code",
   "execution_count": 128,
   "id": "0bbc3a0d",
   "metadata": {},
   "outputs": [
    {
     "name": "stdout",
     "output_type": "stream",
     "text": [
      "Average Order Value: 2725.47\n"
     ]
    }
   ],
   "source": [
    "# Average order value\n",
    "\n",
    "average_order_value = df['Total Purchase Amount'].mean()\n",
    "print(f\"Average Order Value: {average_order_value:.2f}\")    "
   ]
  },
  {
   "cell_type": "code",
   "execution_count": 1,
   "id": "1e621ce5",
   "metadata": {},
   "outputs": [
    {
     "ename": "NameError",
     "evalue": "name 'df' is not defined",
     "output_type": "error",
     "traceback": [
      "\u001b[31m---------------------------------------------------------------------------\u001b[39m",
      "\u001b[31mNameError\u001b[39m                                 Traceback (most recent call last)",
      "\u001b[36mCell\u001b[39m\u001b[36m \u001b[39m\u001b[32mIn[1]\u001b[39m\u001b[32m, line 3\u001b[39m\n\u001b[32m      1\u001b[39m \u001b[38;5;66;03m# Sales trends over time\u001b[39;00m\n\u001b[32m----> \u001b[39m\u001b[32m3\u001b[39m df[\u001b[33m'\u001b[39m\u001b[33myear\u001b[39m\u001b[33m'\u001b[39m] = \u001b[43mdf\u001b[49m[\u001b[33m'\u001b[39m\u001b[33mPurchase Date\u001b[39m\u001b[33m'\u001b[39m].dt.year\n\u001b[32m      5\u001b[39m yearly_sales = df.groupby(\u001b[33m'\u001b[39m\u001b[33myear\u001b[39m\u001b[33m'\u001b[39m)[\u001b[33m'\u001b[39m\u001b[33mTotal Purchase Amount\u001b[39m\u001b[33m'\u001b[39m].sum()\n\u001b[32m      7\u001b[39m plt.figure(figsize=(\u001b[32m10\u001b[39m, \u001b[32m5\u001b[39m))\n",
      "\u001b[31mNameError\u001b[39m: name 'df' is not defined"
     ]
    }
   ],
   "source": [
    "# Sales trends over time\n",
    "\n",
    "df['year'] = df['Purchase Date'].dt.year\n",
    "\n",
    "yearly_sales = df.groupby('year')['Total Purchase Amount'].sum()\n",
    "\n",
    "plt.figure(figsize=(10, 5))\n",
    "yearly_sales.plot(marker='o', linestyle='-', color='teal')\n",
    "plt.title(\"Yearly Total Purchase Amount Trend\")\n",
    "plt.xlabel(\"Year\")\n",
    "plt.ylabel(\"Total Purchase Amount\")\n",
    "plt.grid(True, linestyle='--', alpha=0.5)\n",
    "plt.tight_layout()\n",
    "plt.show()\n"
   ]
  },
  {
   "cell_type": "code",
   "execution_count": 2,
   "id": "93efc13a",
   "metadata": {},
   "outputs": [],
   "source": [
    "# it shows that the stable sales performance over 2020 to 2022 and In 2023, total purchase amount drops significantly"
   ]
  },
  {
   "cell_type": "code",
   "execution_count": 3,
   "id": "6df0b480",
   "metadata": {},
   "outputs": [
    {
     "ename": "NameError",
     "evalue": "name 'df' is not defined",
     "output_type": "error",
     "traceback": [
      "\u001b[31m---------------------------------------------------------------------------\u001b[39m",
      "\u001b[31mNameError\u001b[39m                                 Traceback (most recent call last)",
      "\u001b[36mCell\u001b[39m\u001b[36m \u001b[39m\u001b[32mIn[3]\u001b[39m\u001b[32m, line 3\u001b[39m\n\u001b[32m      1\u001b[39m \u001b[38;5;66;03m# Top Product Categories\u001b[39;00m\n\u001b[32m      2\u001b[39m color = [ \u001b[33m'\u001b[39m\u001b[33mblue\u001b[39m\u001b[33m'\u001b[39m, \u001b[33m'\u001b[39m\u001b[33mred\u001b[39m\u001b[33m'\u001b[39m, \u001b[33m'\u001b[39m\u001b[33mpurple\u001b[39m\u001b[33m'\u001b[39m, \u001b[33m'\u001b[39m\u001b[33myellow\u001b[39m\u001b[33m'\u001b[39m]\n\u001b[32m----> \u001b[39m\u001b[32m3\u001b[39m \u001b[43mdf\u001b[49m.groupby(\u001b[33m'\u001b[39m\u001b[33mProduct Category\u001b[39m\u001b[33m'\u001b[39m)[\u001b[33m'\u001b[39m\u001b[33mTotal Purchase Amount\u001b[39m\u001b[33m'\u001b[39m].sum().sort_values(ascending=\u001b[38;5;28;01mFalse\u001b[39;00m).plot(kind=\u001b[33m'\u001b[39m\u001b[33mbar\u001b[39m\u001b[33m'\u001b[39m, color = color)\n\u001b[32m      4\u001b[39m plt.xticks(rotation=\u001b[32m0\u001b[39m) \n",
      "\u001b[31mNameError\u001b[39m: name 'df' is not defined"
     ]
    }
   ],
   "source": [
    "# Top Product Categories\n",
    "color = [ 'blue', 'red', 'purple', 'yellow']\n",
    "df.groupby('Product Category')['Total Purchase Amount'].sum().sort_values(ascending=False).plot(kind='bar', color = color)\n",
    "plt.xticks(rotation=0) \n"
   ]
  },
  {
   "cell_type": "code",
   "execution_count": 4,
   "id": "ec9bfbfc",
   "metadata": {},
   "outputs": [],
   "source": [
    "# Books and Clothing are the most purchased product category"
   ]
  },
  {
   "cell_type": "code",
   "execution_count": 5,
   "id": "18169d95",
   "metadata": {},
   "outputs": [
    {
     "ename": "NameError",
     "evalue": "name 'df' is not defined",
     "output_type": "error",
     "traceback": [
      "\u001b[31m---------------------------------------------------------------------------\u001b[39m",
      "\u001b[31mNameError\u001b[39m                                 Traceback (most recent call last)",
      "\u001b[36mCell\u001b[39m\u001b[36m \u001b[39m\u001b[32mIn[5]\u001b[39m\u001b[32m, line 4\u001b[39m\n\u001b[32m      1\u001b[39m \u001b[38;5;66;03m# Payment Method Analysis\u001b[39;00m\n\u001b[32m      3\u001b[39m color = [\u001b[33m'\u001b[39m\u001b[33mmaroon\u001b[39m\u001b[33m'\u001b[39m , \u001b[33m'\u001b[39m\u001b[33mfirebrick\u001b[39m\u001b[33m'\u001b[39m ,\u001b[33m'\u001b[39m\u001b[33mindianred\u001b[39m\u001b[33m'\u001b[39m , \u001b[33m'\u001b[39m\u001b[33mlightcoral\u001b[39m\u001b[33m'\u001b[39m]\n\u001b[32m----> \u001b[39m\u001b[32m4\u001b[39m \u001b[43mdf\u001b[49m.groupby(\u001b[33m'\u001b[39m\u001b[33mPayment Method\u001b[39m\u001b[33m'\u001b[39m)[\u001b[33m'\u001b[39m\u001b[33mTotal Purchase Amount\u001b[39m\u001b[33m'\u001b[39m].sum().sort_values(ascending=\u001b[38;5;28;01mFalse\u001b[39;00m).plot(kind=\u001b[33m'\u001b[39m\u001b[33mbar\u001b[39m\u001b[33m'\u001b[39m , color = color)\n\u001b[32m      6\u001b[39m plt.xlabel(\u001b[33m'\u001b[39m\u001b[33mPayment Method\u001b[39m\u001b[33m'\u001b[39m)\n\u001b[32m      7\u001b[39m plt.ylabel(\u001b[33m'\u001b[39m\u001b[33mTotal Purchase Amount\u001b[39m\u001b[33m'\u001b[39m)\n",
      "\u001b[31mNameError\u001b[39m: name 'df' is not defined"
     ]
    }
   ],
   "source": [
    "# Payment Method Analysis\n",
    "\n",
    "color = ['maroon' , 'firebrick' ,'indianred' , 'lightcoral']\n",
    "df.groupby('Payment Method')['Total Purchase Amount'].sum().sort_values(ascending=False).plot(kind='bar' , color = color)\n",
    "\n",
    "plt.xlabel('Payment Method')\n",
    "plt.ylabel('Total Purchase Amount')\n",
    "plt.xticks(rotation=0) \n",
    "plt.grid(axis='y', linestyle='--', alpha=0.3)\n",
    "plt.show()"
   ]
  },
  {
   "cell_type": "code",
   "execution_count": 6,
   "id": "e5b2affe",
   "metadata": {},
   "outputs": [],
   "source": [
    "# Credit Card most preferred payment method"
   ]
  },
  {
   "cell_type": "code",
   "execution_count": 7,
   "id": "c14cc399",
   "metadata": {},
   "outputs": [
    {
     "ename": "NameError",
     "evalue": "name 'sns' is not defined",
     "output_type": "error",
     "traceback": [
      "\u001b[31m---------------------------------------------------------------------------\u001b[39m",
      "\u001b[31mNameError\u001b[39m                                 Traceback (most recent call last)",
      "\u001b[36mCell\u001b[39m\u001b[36m \u001b[39m\u001b[32mIn[7]\u001b[39m\u001b[32m, line 2\u001b[39m\n\u001b[32m      1\u001b[39m \u001b[38;5;66;03m# Price vs Quantity Relationship\u001b[39;00m\n\u001b[32m----> \u001b[39m\u001b[32m2\u001b[39m \u001b[43msns\u001b[49m.scatterplot(data=df, x=\u001b[33m'\u001b[39m\u001b[33mProduct Price\u001b[39m\u001b[33m'\u001b[39m, y=\u001b[33m'\u001b[39m\u001b[33mQuantity\u001b[39m\u001b[33m'\u001b[39m)\n",
      "\u001b[31mNameError\u001b[39m: name 'sns' is not defined"
     ]
    }
   ],
   "source": [
    "# Price vs Quantity Relationship\n",
    "sns.scatterplot(data=df, x='Product Price', y='Quantity')"
   ]
  },
  {
   "cell_type": "code",
   "execution_count": 8,
   "id": "dda4f413",
   "metadata": {},
   "outputs": [],
   "source": [
    "# There's no strong price sensitivity in quantity purchased — meaning price doesn’t heavily influence how many units people buy"
   ]
  },
  {
   "cell_type": "code",
   "execution_count": 9,
   "id": "dc1960a7",
   "metadata": {},
   "outputs": [
    {
     "ename": "NameError",
     "evalue": "name 'df' is not defined",
     "output_type": "error",
     "traceback": [
      "\u001b[31m---------------------------------------------------------------------------\u001b[39m",
      "\u001b[31mNameError\u001b[39m                                 Traceback (most recent call last)",
      "\u001b[36mCell\u001b[39m\u001b[36m \u001b[39m\u001b[32mIn[9]\u001b[39m\u001b[32m, line 3\u001b[39m\n\u001b[32m      1\u001b[39m \u001b[38;5;66;03m# Purchase behavior by gender\u001b[39;00m\n\u001b[32m----> \u001b[39m\u001b[32m3\u001b[39m \u001b[43mdf\u001b[49m.groupby(\u001b[33m'\u001b[39m\u001b[33mGender\u001b[39m\u001b[33m'\u001b[39m)[\u001b[33m'\u001b[39m\u001b[33mTotal Purchase Amount\u001b[39m\u001b[33m'\u001b[39m].sum().sort_values(ascending=\u001b[38;5;28;01mFalse\u001b[39;00m).plot(kind=\u001b[33m'\u001b[39m\u001b[33mbar\u001b[39m\u001b[33m'\u001b[39m,color = \u001b[33m'\u001b[39m\u001b[33my\u001b[39m\u001b[33m'\u001b[39m)\n\u001b[32m      4\u001b[39m plt.xlabel(\u001b[33m'\u001b[39m\u001b[33mGender\u001b[39m\u001b[33m'\u001b[39m)\n\u001b[32m      5\u001b[39m plt.ylabel(\u001b[33m'\u001b[39m\u001b[33mTotal Purchase Amount\u001b[39m\u001b[33m'\u001b[39m)\n",
      "\u001b[31mNameError\u001b[39m: name 'df' is not defined"
     ]
    }
   ],
   "source": [
    "# Purchase behavior by gender\n",
    "\n",
    "df.groupby('Gender')['Total Purchase Amount'].sum().sort_values(ascending=False).plot(kind='bar',color = 'y')\n",
    "plt.xlabel('Gender')\n",
    "plt.ylabel('Total Purchase Amount')\n",
    "plt.xticks(rotation=0) \n",
    "plt.grid(axis='y', linestyle='--', alpha=0.3)\n",
    "plt.show()"
   ]
  },
  {
   "cell_type": "code",
   "execution_count": 10,
   "id": "53c5ed06",
   "metadata": {},
   "outputs": [],
   "source": [
    "# Male and Female customers have similar total purchase amounts, with a slight"
   ]
  },
  {
   "cell_type": "code",
   "execution_count": 11,
   "id": "ffc215c5",
   "metadata": {},
   "outputs": [
    {
     "ename": "NameError",
     "evalue": "name 'pd' is not defined",
     "output_type": "error",
     "traceback": [
      "\u001b[31m---------------------------------------------------------------------------\u001b[39m",
      "\u001b[31mNameError\u001b[39m                                 Traceback (most recent call last)",
      "\u001b[36mCell\u001b[39m\u001b[36m \u001b[39m\u001b[32mIn[11]\u001b[39m\u001b[32m, line 7\u001b[39m\n\u001b[32m      4\u001b[39m labels = [\u001b[33m'\u001b[39m\u001b[33m18–24\u001b[39m\u001b[33m'\u001b[39m, \u001b[33m'\u001b[39m\u001b[33m25–34\u001b[39m\u001b[33m'\u001b[39m, \u001b[33m'\u001b[39m\u001b[33m35–44\u001b[39m\u001b[33m'\u001b[39m, \u001b[33m'\u001b[39m\u001b[33m45–54\u001b[39m\u001b[33m'\u001b[39m, \u001b[33m'\u001b[39m\u001b[33m55–64\u001b[39m\u001b[33m'\u001b[39m, \u001b[33m'\u001b[39m\u001b[33m65–70\u001b[39m\u001b[33m'\u001b[39m]\n\u001b[32m      6\u001b[39m \u001b[38;5;66;03m# Create Age Group column\u001b[39;00m\n\u001b[32m----> \u001b[39m\u001b[32m7\u001b[39m df[\u001b[33m'\u001b[39m\u001b[33mAge Group\u001b[39m\u001b[33m'\u001b[39m] = \u001b[43mpd\u001b[49m.cut(df[\u001b[33m'\u001b[39m\u001b[33mAge\u001b[39m\u001b[33m'\u001b[39m], bins=bins, labels=labels, right=\u001b[38;5;28;01mFalse\u001b[39;00m ,include_lowest=\u001b[38;5;28;01mTrue\u001b[39;00m)\n\u001b[32m      9\u001b[39m age_group_sales = df.groupby(\u001b[33m'\u001b[39m\u001b[33mAge Group\u001b[39m\u001b[33m'\u001b[39m)[\u001b[33m'\u001b[39m\u001b[33mTotal Purchase Amount\u001b[39m\u001b[33m'\u001b[39m].sum().sort_values(ascending=\u001b[38;5;28;01mFalse\u001b[39;00m)\n\u001b[32m     11\u001b[39m color = [\u001b[33m'\u001b[39m\u001b[33mdarkorange\u001b[39m\u001b[33m'\u001b[39m, \u001b[33m'\u001b[39m\u001b[33morange\u001b[39m\u001b[33m'\u001b[39m, \u001b[33m'\u001b[39m\u001b[33mgoldenrod\u001b[39m\u001b[33m'\u001b[39m, \u001b[33m'\u001b[39m\u001b[33mgold\u001b[39m\u001b[33m'\u001b[39m, \u001b[33m'\u001b[39m\u001b[33molivedrab\u001b[39m\u001b[33m'\u001b[39m, \u001b[33m'\u001b[39m\u001b[33mseagreen\u001b[39m\u001b[33m'\u001b[39m]\n",
      "\u001b[31mNameError\u001b[39m: name 'pd' is not defined"
     ]
    }
   ],
   "source": [
    "# Purchase behavior by Age\n",
    "\n",
    "bins = [18, 25, 35, 45, 55, 65, 71]  # Covers ages 18–70\n",
    "labels = ['18–24', '25–34', '35–44', '45–54', '55–64', '65–70']\n",
    "\n",
    "# Create Age Group column\n",
    "df['Age Group'] = pd.cut(df['Age'], bins=bins, labels=labels, right=False ,include_lowest=True)\n",
    "\n",
    "age_group_sales = df.groupby('Age Group')['Total Purchase Amount'].sum().sort_values(ascending=False)\n",
    "\n",
    "color = ['darkorange', 'orange', 'goldenrod', 'gold', 'olivedrab', 'seagreen']\n",
    "plt.figure(figsize=(8, 5))\n",
    "age_group_sales.plot(kind='bar', color=color)\n",
    "plt.xlabel('Age Group')\n",
    "plt.ylabel('Total Purchase Amount')\n",
    "plt.title('Total Purchase Amount by Age Group')\n",
    "plt.xticks(rotation=0)\n",
    "plt.grid(axis='y', linestyle='--', alpha=0.4)\n",
    "plt.tight_layout()\n",
    "plt.show()\n",
    "\n",
    "\n"
   ]
  },
  {
   "cell_type": "code",
   "execution_count": 12,
   "id": "a6096dbc",
   "metadata": {},
   "outputs": [],
   "source": [
    "# this represents the total purchase amount by age group, showing that the 55-64 age group has the highest total purchase amount, followed by the 35-44, 45-54 and 25-34 age groups. The 18-24 and 65-70 age groups have the lowest total purchase amounts."
   ]
  },
  {
   "cell_type": "code",
   "execution_count": 13,
   "id": "5abd53f6",
   "metadata": {},
   "outputs": [
    {
     "ename": "NameError",
     "evalue": "name 'df' is not defined",
     "output_type": "error",
     "traceback": [
      "\u001b[31m---------------------------------------------------------------------------\u001b[39m",
      "\u001b[31mNameError\u001b[39m                                 Traceback (most recent call last)",
      "\u001b[36mCell\u001b[39m\u001b[36m \u001b[39m\u001b[32mIn[13]\u001b[39m\u001b[32m, line 1\u001b[39m\n\u001b[32m----> \u001b[39m\u001b[32m1\u001b[39m df[\u001b[33m'\u001b[39m\u001b[33mReturns\u001b[39m\u001b[33m'\u001b[39m] = \u001b[43mdf\u001b[49m[\u001b[33m'\u001b[39m\u001b[33mReturns\u001b[39m\u001b[33m'\u001b[39m].replace({\u001b[33m'\u001b[39m\u001b[33mYes\u001b[39m\u001b[33m'\u001b[39m: \u001b[32m1\u001b[39m, \u001b[33m'\u001b[39m\u001b[33mNo\u001b[39m\u001b[33m'\u001b[39m: \u001b[32m0\u001b[39m}).astype(\u001b[38;5;28mint\u001b[39m)\n\u001b[32m      3\u001b[39m \u001b[38;5;66;03m# Count total and returned orders by Product Category\u001b[39;00m\n\u001b[32m      5\u001b[39m category_returns = df.groupby(\u001b[33m'\u001b[39m\u001b[33mProduct Category\u001b[39m\u001b[33m'\u001b[39m)[\u001b[33m'\u001b[39m\u001b[33mReturns\u001b[39m\u001b[33m'\u001b[39m].agg(\n\u001b[32m      6\u001b[39m     total_orders=\u001b[33m'\u001b[39m\u001b[33mcount\u001b[39m\u001b[33m'\u001b[39m,\n\u001b[32m      7\u001b[39m     total_returns=\u001b[33m'\u001b[39m\u001b[33msum\u001b[39m\u001b[33m'\u001b[39m\n\u001b[32m      8\u001b[39m )\n",
      "\u001b[31mNameError\u001b[39m: name 'df' is not defined"
     ]
    }
   ],
   "source": [
    "\n",
    "df['Returns'] = df['Returns'].replace({'Yes': 1, 'No': 0}).astype(int)\n",
    "\n",
    "# Count total and returned orders by Product Category\n",
    "\n",
    "category_returns = df.groupby('Product Category')['Returns'].agg(\n",
    "    total_orders='count',\n",
    "    total_returns='sum'\n",
    ")\n",
    "\n",
    "# Calculate return rate (%)\n",
    "\n",
    "category_returns['Return Rate (%)'] = (category_returns['total_returns'] / category_returns['total_orders']) * 100\n",
    "\n",
    "#Prepare data for pie chart\n",
    "\n",
    "pie_data = category_returns['Return Rate (%)'].sort_values(ascending=False)\n",
    "\n",
    "#Plot pie chart\n",
    "\n",
    "plt.figure(figsize=(8, 6))\n",
    "plt.pie(pie_data, labels=pie_data.index, autopct='%1.1f%%', startangle=140, colors=plt.cm.Paired.colors)\n",
    "plt.title('Return Rate Distribution by Product Category')\n",
    "plt.axis('equal')\n",
    "plt.tight_layout()\n",
    "plt.show()\n"
   ]
  },
  {
   "cell_type": "code",
   "execution_count": null,
   "id": "bead6557",
   "metadata": {},
   "outputs": [],
   "source": []
  },
  {
   "cell_type": "code",
   "execution_count": null,
   "id": "d0491c25",
   "metadata": {},
   "outputs": [],
   "source": []
  }
 ],
 "metadata": {
  "kernelspec": {
   "display_name": "Python 3",
   "language": "python",
   "name": "python3"
  },
  "language_info": {
   "codemirror_mode": {
    "name": "ipython",
    "version": 3
   },
   "file_extension": ".py",
   "mimetype": "text/x-python",
   "name": "python",
   "nbconvert_exporter": "python",
   "pygments_lexer": "ipython3",
   "version": "3.12.0"
  }
 },
 "nbformat": 4,
 "nbformat_minor": 5
}
